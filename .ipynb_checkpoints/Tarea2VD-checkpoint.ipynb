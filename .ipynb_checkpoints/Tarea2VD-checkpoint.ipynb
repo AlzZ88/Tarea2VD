{
 "cells": [
  {
   "cell_type": "code",
   "execution_count": 8,
   "id": "4e518b9c-b79a-4fb4-942f-328d54368b77",
   "metadata": {},
   "outputs": [],
   "source": [
    "import plotly.express as px\n",
    "import pandas as pd            "
   ]
  },
  {
   "cell_type": "code",
   "execution_count": 10,
   "id": "910d795b-c72b-4671-9493-7838b7a896de",
   "metadata": {},
   "outputs": [],
   "source": [
    "df1 = pd.read_csv('children_per_woman_total_fertility.csv')\n",
    "print(df1.head())"
   ]
  },
  {
   "cell_type": "code",
   "execution_count": null,
   "id": "95825ac8-3748-4d03-a702-b821cf3bfbb0",
   "metadata": {},
   "outputs": [],
   "source": []
  }
 ],
 "metadata": {
  "kernelspec": {
   "display_name": "Python 3 (ipykernel)",
   "language": "python",
   "name": "python3"
  },
  "language_info": {
   "codemirror_mode": {
    "name": "ipython",
    "version": 3
   },
   "file_extension": ".py",
   "mimetype": "text/x-python",
   "name": "python",
   "nbconvert_exporter": "python",
   "pygments_lexer": "ipython3",
   "version": "3.11.2"
  }
 },
 "nbformat": 4,
 "nbformat_minor": 5
}
