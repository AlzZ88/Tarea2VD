{
 "cells": [
  {
   "cell_type": "code",
   "execution_count": 8,
   "id": "4e518b9c-b79a-4fb4-942f-328d54368b77",
   "metadata": {},
   "outputs": [],
   "source": [
    "import plotly.express as px\n",
    "import pandas as pd            "
   ]
  },
  {
   "cell_type": "code",
   "execution_count": 16,
   "id": "910d795b-c72b-4671-9493-7838b7a896de",
   "metadata": {},
   "outputs": [
    {
     "name": "stdout",
     "output_type": "stream",
     "text": [
      "                country   1990   1991   1992   1993   1994   1995   1996  \\\n",
      "0                 Aruba  20.5k  22.2k  23.2k  24.6k  26.3k  26.9k  26.8k   \n",
      "1           Afghanistan    NaN    NaN    NaN    NaN    NaN    NaN    NaN   \n",
      "2                Angola   2980   3300   1620   1490   1260   2340   2410   \n",
      "3               Albania   2550   1880   1740   2110   2300   2710   3050   \n",
      "4  United Arab Emirates    NaN    NaN    NaN    NaN    NaN    NaN    NaN   \n",
      "\n",
      "    1997   1998  ...   2012   2013   2014   2015   2016   2017   2018   2019  \\\n",
      "0  28.3k  28.6k  ...  33.2k  34.7k  35.5k  35.8k  35.9k  36.7k  38.9k  40.6k   \n",
      "1    NaN    NaN  ...   1960   2070   2110   2150   2040   2120   2130   2200   \n",
      "2   2810   2810  ...   6790   7090   7630   6900   6660   6770   6500   6260   \n",
      "3   2780   3110  ...  10.4k  10.8k  11.4k  11.8k  12.3k  12.8k  13.5k  13.8k   \n",
      "4    NaN    NaN  ...  74.9k    76k    79k    70k  69.2k  71.7k  73.5k  75.2k   \n",
      "\n",
      "    2020   2021  \n",
      "0  34.1k  41.4k  \n",
      "1   2100   1680  \n",
      "2   5830   5980  \n",
      "3  13.5k  15.5k  \n",
      "4  71.3k    NaN  \n",
      "\n",
      "[5 rows x 33 columns]\n"
     ]
    }
   ],
   "source": [
    "df1_1 = pd.read_csv('children_per_woman_total_fertility.csv')\n",
    "df1_2 = pd.read_csv('gnipercapita_ppp_current_international.csv')\n",
    "print(df1_2.head())"
   ]
  },
  {
   "cell_type": "code",
   "execution_count": 17,
   "id": "95825ac8-3748-4d03-a702-b821cf3bfbb0",
   "metadata": {},
   "outputs": [
    {
     "name": "stdout",
     "output_type": "stream",
     "text": [
      "                country   2007\n",
      "0                 Aruba  33.5k\n",
      "1           Afghanistan    NaN\n",
      "2                Angola   5330\n",
      "3               Albania   7490\n",
      "4  United Arab Emirates  94.6k\n"
     ]
    }
   ],
   "source": [
    "df107_1=df1_1[['country', '2007']]\n",
    "df107_2=df1_2[['country', '2007']]"
   ]
  },
  {
   "cell_type": "code",
   "execution_count": null,
   "id": "16d04997-fdc5-4085-8b91-fe269a1dbb88",
   "metadata": {},
   "outputs": [],
   "source": [
    "fig = px.scatter(df107_1, x='x', y='y', color='Dataset 1', title='Scatterplot')\n",
    "\n",
    "# Añadir los puntos del segundo dataframe al scatterplot\n",
    "fig.add_scatter(x=df107_2['country'], y=df107_2['2017'], mode='markers', name='Dataset 2')\n",
    "\n",
    "# Mostrar el scatterplot\n",
    "fig.show()"
   ]
  }
 ],
 "metadata": {
  "kernelspec": {
   "display_name": "Python 3 (ipykernel)",
   "language": "python",
   "name": "python3"
  },
  "language_info": {
   "codemirror_mode": {
    "name": "ipython",
    "version": 3
   },
   "file_extension": ".py",
   "mimetype": "text/x-python",
   "name": "python",
   "nbconvert_exporter": "python",
   "pygments_lexer": "ipython3",
   "version": "3.11.2"
  }
 },
 "nbformat": 4,
 "nbformat_minor": 5
}
